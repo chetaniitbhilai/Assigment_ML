{
  "nbformat": 4,
  "nbformat_minor": 0,
  "metadata": {
    "colab": {
      "provenance": [],
      "authorship_tag": "ABX9TyPc71KeSWAKrlblY+hbf6sU",
      "include_colab_link": true
    },
    "kernelspec": {
      "name": "python3",
      "display_name": "Python 3"
    },
    "language_info": {
      "name": "python"
    }
  },
  "cells": [
    {
      "cell_type": "markdown",
      "metadata": {
        "id": "view-in-github",
        "colab_type": "text"
      },
      "source": [
        "<a href=\"https://colab.research.google.com/github/chetaniitbhilai/Assigment_ML/blob/master/Assignment1_Q4.ipynb\" target=\"_parent\"><img src=\"https://colab.research.google.com/assets/colab-badge.svg\" alt=\"Open In Colab\"/></a>"
      ]
    },
    {
      "cell_type": "code",
      "execution_count": null,
      "metadata": {
        "colab": {
          "base_uri": "https://localhost:8080/"
        },
        "id": "s5ixPkExOfvf",
        "outputId": "69295456-0753-4bdc-c205-527a97123281"
      },
      "outputs": [
        {
          "output_type": "stream",
          "name": "stdout",
          "text": [
            "                          Min         Max\n",
            "fixed acidity         4.60000    15.90000\n",
            "volatile acidity      0.12000     1.58000\n",
            "citric acid           0.00000     1.00000\n",
            "residual sugar        0.90000    15.50000\n",
            "chlorides             0.01200     0.61100\n",
            "free sulfur dioxide   1.00000    68.00000\n",
            "total sulfur dioxide  6.00000   289.00000\n",
            "density               0.99007     1.00369\n",
            "pH                    2.74000     4.01000\n",
            "sulphates             0.33000     2.00000\n",
            "alcohol               8.40000    14.90000\n",
            "quality               3.00000     8.00000\n",
            "Id                    0.00000  1597.00000\n",
            "Normalized Data:\n",
            "       fixed acidity  volatile acidity  citric acid  residual sugar  chlorides  \\\n",
            "0          0.247788          0.397260         0.00        0.068493   0.106845   \n",
            "1          0.283186          0.520548         0.00        0.116438   0.143573   \n",
            "2          0.283186          0.438356         0.04        0.095890   0.133556   \n",
            "3          0.584071          0.109589         0.56        0.068493   0.105175   \n",
            "4          0.247788          0.397260         0.00        0.068493   0.106845   \n",
            "...             ...               ...          ...             ...        ...   \n",
            "1138       0.150442          0.267123         0.13        0.095890   0.106845   \n",
            "1139       0.194690          0.342466         0.08        0.068493   0.093489   \n",
            "1140       0.141593          0.328767         0.08        0.075342   0.130217   \n",
            "1141       0.115044          0.294521         0.10        0.089041   0.083472   \n",
            "1142       0.115044          0.359589         0.12        0.075342   0.105175   \n",
            "\n",
            "      free sulfur dioxide  total sulfur dioxide   density        pH  \\\n",
            "0                0.149254              0.098940  0.567548  0.606299   \n",
            "1                0.358209              0.215548  0.494126  0.362205   \n",
            "2                0.208955              0.169611  0.508811  0.409449   \n",
            "3                0.238806              0.190813  0.582232  0.330709   \n",
            "4                0.149254              0.098940  0.567548  0.606299   \n",
            "...                   ...                   ...       ...       ...   \n",
            "1138             0.417910              0.120141  0.416300  0.535433   \n",
            "1139             0.402985              0.113074  0.472834  0.535433   \n",
            "1140             0.462687              0.134276  0.354626  0.559055   \n",
            "1141             0.567164              0.159011  0.370778  0.614173   \n",
            "1142             0.462687              0.134276  0.396476  0.653543   \n",
            "\n",
            "      sulphates   alcohol        Id  quality  \n",
            "0      0.137725  0.153846  0.000000        0  \n",
            "1      0.209581  0.215385  0.000626        0  \n",
            "2      0.191617  0.215385  0.001252        0  \n",
            "3      0.149701  0.215385  0.001879        0  \n",
            "4      0.137725  0.153846  0.002505        0  \n",
            "...         ...       ...       ...      ...  \n",
            "1138   0.251497  0.400000  0.996869        0  \n",
            "1139   0.293413  0.169231  0.997495        0  \n",
            "1140   0.149701  0.323077  0.998121        0  \n",
            "1141   0.257485  0.430769  0.998748        0  \n",
            "1142   0.227545  0.276923  1.000000        0  \n",
            "\n",
            "[1143 rows x 13 columns]\n"
          ]
        }
      ],
      "source": [
        "import pandas as pd\n",
        "from sklearn.preprocessing import MinMaxScaler\n",
        "\n",
        "# loading the dataset\n",
        "df = pd.read_csv('/content/WineQT.csv')\n",
        "\n",
        "# Displaying the min and max values in each row\n",
        "min_max = pd.DataFrame({\n",
        "    'Min': df.min(),\n",
        "    'Max': df.max()\n",
        "})\n",
        "print(min_max)\n",
        "\n",
        "# Converting quality values to binary\n",
        "df['quality'] = df['quality'].apply(lambda x: 1 if x > 6 else 0)\n",
        "\n",
        "# Normalize all features except 'quality'\n",
        "features = df.drop('quality', axis=1) #Dropping or avoiding the field that is quantity anoyhow it wouldn't be affected\n",
        "scaler = MinMaxScaler() # Initalising MinMaxScaler\n",
        "scaled_features = scaler.fit_transform(features) # Transforming the features in between 0->1 on the basis of their min max value\n",
        "\n",
        "# Create a new DataFrame with normalized features and binary quality\n",
        "normalized_df = pd.DataFrame(scaled_features, columns=features.columns)\n",
        "normalized_df['quality'] = df['quality'].values\n",
        "\n",
        "# Display the first few rows of the normalized data\n",
        "print(\"Normalized Data:\\n\", normalized_df)\n"
      ]
    },
    {
      "cell_type": "code",
      "source": [],
      "metadata": {
        "id": "oMq0bls2PDOI"
      },
      "execution_count": null,
      "outputs": []
    }
  ]
}